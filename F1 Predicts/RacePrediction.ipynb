{
 "cells": [
  {
   "cell_type": "markdown",
   "id": "f212d0e4",
   "metadata": {},
   "source": [
    "The goal of this project is to use historical data to predict the finishing positions of drivers in Formula 1 races, specifically identifying which drivers will likely finish in the top three and whether we can determine the exact finishing position for each driver."
   ]
  },
  {
   "cell_type": "markdown",
   "id": "20858d82",
   "metadata": {},
   "source": [
    "Loading data -> https://www.kaggle.com/datasets/rohanrao/formula-1-world-championship-1950-2020 \n",
    "\n",
    "Context\n",
    "Formula 1 (a.k.a. F1 or Formula One) is the highest class of single-seater auto racing sanctioned by the Fédération Internationale de l'Automobile (FIA) and owned by the Formula One Group. The FIA Formula One World Championship has been one of the premier forms of racing around the world since its inaugural season in 1950. The word \"formula\" in the name refers to the set of rules to which all participants' cars must conform. A Formula One season consists of a series of races, known as Grands Prix, which take place worldwide on purpose-built circuits and on public roads.\n",
    "\n",
    "Content\n",
    "The dataset consists of all information on the Formula 1 races, drivers, constructors, qualifying, circuits, lap times, pit stops, championships from 1950 till the latest 2024 season."
   ]
  },
  {
   "cell_type": "code",
   "execution_count": 43,
   "id": "f2a0685d",
   "metadata": {},
   "outputs": [
    {
     "data": {
      "text/plain": [
       "20"
      ]
     },
     "execution_count": 43,
     "metadata": {},
     "output_type": "execute_result"
    }
   ],
   "source": [
    "\n",
    "import pandas as pd\n",
    "import os\n",
    "\n",
    "path_cartella = './Dataset/'\n",
    "data_costruttori = pd.read_csv(path_cartella + 'constructors.csv')\n",
    "data_piloti = pd.read_csv(path_cartella + 'drivers.csv')\n",
    "data_gare = pd.read_csv(path_cartella + 'races.csv')\n",
    "data_risultati = pd.read_csv(path_cartella + 'results.csv')\n",
    "pd.get_option(\"display.max_columns\",None)\n",
    "\n"
   ]
  },
  {
   "cell_type": "code",
   "execution_count": null,
   "id": "e2b2c324",
   "metadata": {},
   "outputs": [],
   "source": [
    "import pandas as pd\n",
    "import matplotlib\n",
    "import numpy as np\n",
    "import seaborn as sns\n",
    "import matplotlib.pyplot as plt\n",
    "import plotly.graph_objects as go\n",
    "from sklearn.preprocessing import StandardScaler\n",
    "from sklearn.model_selection import train_test_split\n",
    "from sklearn.preprocessing import LabelEncoder\n",
    "from sklearn.impute import SimpleImputer\n",
    "from sklearn.tree import DecisionTreeClassifier"
   ]
  },
  {
   "cell_type": "markdown",
   "id": "2a7a8b4f",
   "metadata": {},
   "source": [
    "We will organize our data by year, focusing only on information from 1982 onwards, as F1 cars before 1981 are significantly different from today's models."
   ]
  },
  {
   "cell_type": "code",
   "execution_count": null,
   "id": "023573cd",
   "metadata": {},
   "outputs": [],
   "source": [
    "pd.get_option(\"display.max_columns\",None)\n",
    "race_df = data_gare[[\"raceId\", \"year\", \"round\", \"circuitId\"]].copy()\n",
    "race_df = race_df.sort_values(by=['year', 'round'])\n",
    "race_df = race_df[race_df[\"year\"] >= 1982]\n",
    "\n",
    "print(race_df)"
   ]
  },
  {
   "cell_type": "markdown",
   "id": "58f6be74",
   "metadata": {},
   "source": [
    "Choose the following columns from the original dataframe: raceId, driverId, constructorId, grid (starting position), and positionOrder (finishing position)"
   ]
  },
  {
   "cell_type": "code",
   "execution_count": null,
   "id": "4f2bd5fa",
   "metadata": {},
   "outputs": [],
   "source": [
    "results = data_risultati[[\"raceId\", \"driverId\", \"constructorId\", \"grid\", \"positionOrder\", \"points\"]].copy()\n",
    "#print(results)\n",
    "duplicati = race_df.duplicated()\n",
    "num_duplicati = duplicati.sum()\n",
    "#print(f\"Numero di righe duplicate: {num_duplicati}\")\n",
    "#print(race_df)"
   ]
  },
  {
   "cell_type": "markdown",
   "id": "5faef0a0",
   "metadata": {},
   "source": [
    "We plan to combine the two datasets to get details about the year, round, and circuit for each race, and since there are no duplicate race IDs, we can move ahead with the merge."
   ]
  },
  {
   "cell_type": "code",
   "execution_count": null,
   "id": "1795ac96",
   "metadata": {},
   "outputs": [],
   "source": [
    "df = pd.merge(race_df, results, on='raceId')\n",
    "df.describe().T"
   ]
  },
  {
   "cell_type": "markdown",
   "id": "2134d648",
   "metadata": {},
   "source": [
    "\"Top 3 Finish\": Introducing the Target Variable\n",
    "We create a new feature called \"Top 3 Finish\", which indicates whether a driver finished within the top three positions in each race. This feature will serve as the target variable for our model or analysis."
   ]
  },
  {
   "cell_type": "code",
   "execution_count": null,
   "id": "19936b38",
   "metadata": {},
   "outputs": [],
   "source": [
    "df['Top 3 Finish'] = df['positionOrder'].le(3).astype(int)\n",
    "\n",
    "print(df['Top 3 Finish'].value_counts())"
   ]
  },
  {
   "cell_type": "markdown",
   "id": "c7f48bc4",
   "metadata": {},
   "source": [
    "Driver:\n",
    "Percentage of top 3 finishes in the previous season\n",
    "\n",
    "Percentage of top 3 finishes in the current season up to the race before the current one\n",
    "\n",
    "Constructor (Team):\n",
    "Percentage of top 3 finishes in the previous season\n",
    "\n",
    "Percentage of top 3 finishes in the current season up to the race before the current one\n",
    "\n",
    "To help predict future race results, we aim to capture past performance trends. One effective method is to calculate the percentage of top 3 finishes for each driver and constructor, both for the previous season and for the current season up to the previous race.\n",
    "\n",
    "It's crucial to only include data from before the current race to avoid data leakage.\n",
    "\n",
    "Also, the round number of the race is important, as it indicates how much data is available for the current season.\n",
    "\n",
    "When calculating last year’s percentage, we need to shift the 'year' value by 1 to correctly associate the data with the previous season."
   ]
  },
  {
   "cell_type": "code",
   "execution_count": null,
   "id": "29847274",
   "metadata": {},
   "outputs": [],
   "source": [
    "driver_yearly_stats = df.groupby(['year', 'driverId']).agg(\n",
    "    total_race =('raceId', 'nunique'),\n",
    "    top3_finishes =('Top 3 Finish', 'sum')\n",
    ").reset_index()\n",
    "print(driver_yearly_stats)\n",
    "driver_yearly_stats['Driver Top 3 Finish Percentage (This Year)'] = (driver_yearly_stats['top3_finishes'] / driver_yearly_stats['total_race']) * 100\n",
    "driver_last_year_stats = driver_yearly_stats.copy()\n",
    "driver_last_year_stats['year'] += 1\n",
    "driver_last_year_stats = driver_last_year_stats.rename(columns={'Driver Top 3 Finish Percentage (This Year)': 'Driver Top 3 Finish Percentage (Last Year)'})\n",
    "\n",
    "df = pd.merge(df, driver_last_year_stats[['year', 'driverId', 'Driver Top 3 Finish Percentage (Last Year)']], on=['year', 'driverId'], how='left')"
   ]
  },
  {
   "cell_type": "markdown",
   "id": "ca124c33",
   "metadata": {},
   "source": [
    "Constructor(Team): Percentage of finishing in top 3 for past year¶\n",
    "Here constructor percentage of finishing in top 3 means the average percentage of this team's drivers finishing in top 3."
   ]
  },
  {
   "cell_type": "code",
   "execution_count": null,
   "id": "580eafa4",
   "metadata": {},
   "outputs": [],
   "source": [
    "constructor_last_year_stats = df.groupby(['year', 'constructorId', 'round']).agg(\n",
    "    Sum_Top_3_Finishes_Last_Year=('Driver Top 3 Finish Percentage (Last Year)', 'sum')\n",
    ").reset_index()\n",
    "\n",
    "print(\"Constructor annual stats\")\n",
    "print(constructor_last_year_stats)\n",
    "\n",
    "# Calculating the percentage of top 3 finishes for each constructor last year\n",
    "constructor_last_year_stats['Constructor Top 3 Finish Percentage (Last Year)'] = constructor_last_year_stats[\"Sum_Top_3_Finishes_Last_Year\"]/2\n",
    "\n",
    "df = pd.merge(df, constructor_last_year_stats[['year', 'constructorId', 'round', 'Constructor Top 3 Finish Percentage (Last Year)']], on=['year', 'constructorId', 'round'], how='left')\n"
   ]
  }
 ],
 "metadata": {
  "kernelspec": {
   "display_name": ".venv",
   "language": "python",
   "name": "python3"
  },
  "language_info": {
   "codemirror_mode": {
    "name": "ipython",
    "version": 3
   },
   "file_extension": ".py",
   "mimetype": "text/x-python",
   "name": "python",
   "nbconvert_exporter": "python",
   "pygments_lexer": "ipython3",
   "version": "3.11.0"
  }
 },
 "nbformat": 4,
 "nbformat_minor": 5
}

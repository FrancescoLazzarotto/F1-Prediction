{
 "cells": [
  {
   "cell_type": "markdown",
   "id": "f212d0e4",
   "metadata": {},
   "source": [
    "The goal of this project is to use historical data to predict the finishing positions of drivers in Formula 1 races, specifically identifying which drivers will likely finish in the top three and whether we can determine the exact finishing position for each driver."
   ]
  },
  {
   "cell_type": "markdown",
   "id": "20858d82",
   "metadata": {},
   "source": [
    "Loading data -> https://www.kaggle.com/datasets/rohanrao/formula-1-world-championship-1950-2020 \n",
    "\n",
    "Context\n",
    "Formula 1 (a.k.a. F1 or Formula One) is the highest class of single-seater auto racing sanctioned by the Fédération Internationale de l'Automobile (FIA) and owned by the Formula One Group. The FIA Formula One World Championship has been one of the premier forms of racing around the world since its inaugural season in 1950. The word \"formula\" in the name refers to the set of rules to which all participants' cars must conform. A Formula One season consists of a series of races, known as Grands Prix, which take place worldwide on purpose-built circuits and on public roads.\n",
    "\n",
    "Content\n",
    "The dataset consists of all information on the Formula 1 races, drivers, constructors, qualifying, circuits, lap times, pit stops, championships from 1950 till the latest 2024 season."
   ]
  },
  {
   "cell_type": "code",
   "execution_count": 43,
   "id": "f2a0685d",
   "metadata": {},
   "outputs": [
    {
     "data": {
      "text/plain": [
       "20"
      ]
     },
     "execution_count": 43,
     "metadata": {},
     "output_type": "execute_result"
    }
   ],
   "source": [
    "\n",
    "import pandas as pd\n",
    "import os\n",
    "\n",
    "path_cartella = './Dataset/'\n",
    "data_costruttori = pd.read_csv(path_cartella + 'constructors.csv')\n",
    "data_piloti = pd.read_csv(path_cartella + 'drivers.csv')\n",
    "data_gare = pd.read_csv(path_cartella + 'races.csv')\n",
    "data_risultati = pd.read_csv(path_cartella + 'results.csv')\n",
    "pd.get_option(\"display.max_columns\",None)\n",
    "\n"
   ]
  },
  {
   "cell_type": "code",
   "execution_count": null,
   "id": "e2b2c324",
   "metadata": {},
   "outputs": [],
   "source": [
    "import pandas as pd\n",
    "import matplotlib\n",
    "import numpy as np\n",
    "import seaborn as sns\n",
    "import matplotlib.pyplot as plt\n",
    "import plotly.graph_objects as go\n",
    "from sklearn.preprocessing import StandardScaler\n",
    "from sklearn.model_selection import train_test_split\n",
    "from sklearn.preprocessing import LabelEncoder\n",
    "from sklearn.impute import SimpleImputer\n",
    "from sklearn.tree import DecisionTreeClassifier"
   ]
  },
  {
   "cell_type": "markdown",
   "id": "2a7a8b4f",
   "metadata": {},
   "source": [
    "We will organize our data by year, focusing only on information from 1982 onwards, as F1 cars before 1981 are significantly different from today's models."
   ]
  },
  {
   "cell_type": "code",
   "execution_count": null,
   "id": "023573cd",
   "metadata": {},
   "outputs": [],
   "source": [
    "pd.get_option(\"display.max_columns\",None)\n",
    "race_df = data_gare[[\"raceId\", \"year\", \"round\", \"circuitId\"]].copy()\n",
    "race_df = race_df.sort_values(by=['year', 'round'])\n",
    "race_df = race_df[race_df[\"year\"] >= 1982]\n",
    "\n",
    "print(race_df)"
   ]
  },
  {
   "cell_type": "markdown",
   "id": "58f6be74",
   "metadata": {},
   "source": [
    "Choose the following columns from the original dataframe: raceId, driverId, constructorId, grid (starting position), and positionOrder (finishing position)"
   ]
  },
  {
   "cell_type": "code",
   "execution_count": null,
   "id": "4f2bd5fa",
   "metadata": {},
   "outputs": [],
   "source": [
    "results = data_risultati[[\"raceId\", \"driverId\", \"constructorId\", \"grid\", \"positionOrder\", \"points\"]].copy()\n",
    "#print(results)\n",
    "duplicati = race_df.duplicated()\n",
    "num_duplicati = duplicati.sum()\n",
    "#print(f\"Numero di righe duplicate: {num_duplicati}\")\n",
    "#print(race_df)"
   ]
  },
  {
   "cell_type": "markdown",
   "id": "5faef0a0",
   "metadata": {},
   "source": [
    "We plan to combine the two datasets to get details about the year, round, and circuit for each race, and since there are no duplicate race IDs, we can move ahead with the merge."
   ]
  },
  {
   "cell_type": "code",
   "execution_count": 52,
   "id": "1795ac96",
   "metadata": {},
   "outputs": [
    {
     "data": {
      "text/html": [
       "<div>\n",
       "<style scoped>\n",
       "    .dataframe tbody tr th:only-of-type {\n",
       "        vertical-align: middle;\n",
       "    }\n",
       "\n",
       "    .dataframe tbody tr th {\n",
       "        vertical-align: top;\n",
       "    }\n",
       "\n",
       "    .dataframe thead th {\n",
       "        text-align: right;\n",
       "    }\n",
       "</style>\n",
       "<table border=\"1\" class=\"dataframe\">\n",
       "  <thead>\n",
       "    <tr style=\"text-align: right;\">\n",
       "      <th></th>\n",
       "      <th>count</th>\n",
       "      <th>mean</th>\n",
       "      <th>std</th>\n",
       "      <th>min</th>\n",
       "      <th>25%</th>\n",
       "      <th>50%</th>\n",
       "      <th>75%</th>\n",
       "      <th>max</th>\n",
       "    </tr>\n",
       "  </thead>\n",
       "  <tbody>\n",
       "    <tr>\n",
       "      <th>raceId</th>\n",
       "      <td>17321.0</td>\n",
       "      <td>477.446510</td>\n",
       "      <td>349.475072</td>\n",
       "      <td>1.0</td>\n",
       "      <td>206.0</td>\n",
       "      <td>364.0</td>\n",
       "      <td>881.0</td>\n",
       "      <td>1110.0</td>\n",
       "    </tr>\n",
       "    <tr>\n",
       "      <th>year</th>\n",
       "      <td>17321.0</td>\n",
       "      <td>2001.829687</td>\n",
       "      <td>12.253518</td>\n",
       "      <td>1982.0</td>\n",
       "      <td>1991.0</td>\n",
       "      <td>2001.0</td>\n",
       "      <td>2013.0</td>\n",
       "      <td>2023.0</td>\n",
       "    </tr>\n",
       "    <tr>\n",
       "      <th>round</th>\n",
       "      <td>17321.0</td>\n",
       "      <td>9.240517</td>\n",
       "      <td>5.183158</td>\n",
       "      <td>1.0</td>\n",
       "      <td>5.0</td>\n",
       "      <td>9.0</td>\n",
       "      <td>13.0</td>\n",
       "      <td>22.0</td>\n",
       "    </tr>\n",
       "    <tr>\n",
       "      <th>circuitId</th>\n",
       "      <td>17321.0</td>\n",
       "      <td>19.726863</td>\n",
       "      <td>17.794540</td>\n",
       "      <td>1.0</td>\n",
       "      <td>8.0</td>\n",
       "      <td>14.0</td>\n",
       "      <td>25.0</td>\n",
       "      <td>79.0</td>\n",
       "    </tr>\n",
       "    <tr>\n",
       "      <th>driverId</th>\n",
       "      <td>17321.0</td>\n",
       "      <td>225.175914</td>\n",
       "      <td>307.095663</td>\n",
       "      <td>1.0</td>\n",
       "      <td>23.0</td>\n",
       "      <td>94.0</td>\n",
       "      <td>173.0</td>\n",
       "      <td>858.0</td>\n",
       "    </tr>\n",
       "    <tr>\n",
       "      <th>constructorId</th>\n",
       "      <td>17321.0</td>\n",
       "      <td>35.653426</td>\n",
       "      <td>55.326192</td>\n",
       "      <td>1.0</td>\n",
       "      <td>6.0</td>\n",
       "      <td>17.0</td>\n",
       "      <td>33.0</td>\n",
       "      <td>214.0</td>\n",
       "    </tr>\n",
       "    <tr>\n",
       "      <th>grid</th>\n",
       "      <td>17321.0</td>\n",
       "      <td>11.281508</td>\n",
       "      <td>7.041134</td>\n",
       "      <td>0.0</td>\n",
       "      <td>5.0</td>\n",
       "      <td>11.0</td>\n",
       "      <td>17.0</td>\n",
       "      <td>29.0</td>\n",
       "    </tr>\n",
       "    <tr>\n",
       "      <th>positionOrder</th>\n",
       "      <td>17321.0</td>\n",
       "      <td>12.716009</td>\n",
       "      <td>7.606928</td>\n",
       "      <td>1.0</td>\n",
       "      <td>6.0</td>\n",
       "      <td>12.0</td>\n",
       "      <td>18.0</td>\n",
       "      <td>39.0</td>\n",
       "    </tr>\n",
       "    <tr>\n",
       "      <th>points</th>\n",
       "      <td>17321.0</td>\n",
       "      <td>2.363576</td>\n",
       "      <td>4.873451</td>\n",
       "      <td>0.0</td>\n",
       "      <td>0.0</td>\n",
       "      <td>0.0</td>\n",
       "      <td>2.0</td>\n",
       "      <td>50.0</td>\n",
       "    </tr>\n",
       "  </tbody>\n",
       "</table>\n",
       "</div>"
      ],
      "text/plain": [
       "                 count         mean         std     min     25%     50%  \\\n",
       "raceId         17321.0   477.446510  349.475072     1.0   206.0   364.0   \n",
       "year           17321.0  2001.829687   12.253518  1982.0  1991.0  2001.0   \n",
       "round          17321.0     9.240517    5.183158     1.0     5.0     9.0   \n",
       "circuitId      17321.0    19.726863   17.794540     1.0     8.0    14.0   \n",
       "driverId       17321.0   225.175914  307.095663     1.0    23.0    94.0   \n",
       "constructorId  17321.0    35.653426   55.326192     1.0     6.0    17.0   \n",
       "grid           17321.0    11.281508    7.041134     0.0     5.0    11.0   \n",
       "positionOrder  17321.0    12.716009    7.606928     1.0     6.0    12.0   \n",
       "points         17321.0     2.363576    4.873451     0.0     0.0     0.0   \n",
       "\n",
       "                  75%     max  \n",
       "raceId          881.0  1110.0  \n",
       "year           2013.0  2023.0  \n",
       "round            13.0    22.0  \n",
       "circuitId        25.0    79.0  \n",
       "driverId        173.0   858.0  \n",
       "constructorId    33.0   214.0  \n",
       "grid             17.0    29.0  \n",
       "positionOrder    18.0    39.0  \n",
       "points            2.0    50.0  "
      ]
     },
     "execution_count": 52,
     "metadata": {},
     "output_type": "execute_result"
    }
   ],
   "source": [
    "df = pd.merge(race_df, results, on='raceId')\n",
    "df.describe().T"
   ]
  },
  {
   "cell_type": "markdown",
   "id": "2134d648",
   "metadata": {},
   "source": [
    "\"Top 3 Finish\": Introducing the Target Variable\n",
    "We create a new feature called \"Top 3 Finish\", which indicates whether a driver finished within the top three positions in each race. This feature will serve as the target variable for our model or analysis."
   ]
  },
  {
   "cell_type": "code",
   "execution_count": null,
   "id": "19936b38",
   "metadata": {},
   "outputs": [
    {
     "name": "stdout",
     "output_type": "stream",
     "text": [
      "       raceId  year  round  circuitId  driverId  constructorId  grid  \\\n",
      "0         467  1982      1         30       117              4     5   \n",
      "1         467  1982      1         30       199              3     8   \n",
      "2         467  1982      1         30       163              4     1   \n",
      "3         467  1982      1         30       182              1    13   \n",
      "4         467  1982      1         30       177              3     7   \n",
      "...       ...   ...    ...        ...       ...            ...   ...   \n",
      "17316    1110  2023     12         13       817            213    19   \n",
      "17317    1110  2023     12         13       858              3    18   \n",
      "17318    1110  2023     12         13       807            210     0   \n",
      "17319    1110  2023     12         13       832              6     4   \n",
      "17320    1110  2023     12         13       857              1     5   \n",
      "\n",
      "       positionOrder  points  Top 3 Finish  \n",
      "0                  1     9.0             1  \n",
      "1                  2     6.0             1  \n",
      "2                  3     4.0             1  \n",
      "3                  4     3.0             0  \n",
      "4                  5     2.0             0  \n",
      "...              ...     ...           ...  \n",
      "17316             16     0.0             0  \n",
      "17317             17     0.0             0  \n",
      "17318             18     0.0             0  \n",
      "17319             19     0.0             0  \n",
      "17320             20     0.0             0  \n",
      "\n",
      "[17321 rows x 10 columns]\n",
      "Top 3 Finish\n",
      "0    15119\n",
      "1     2202\n",
      "Name: count, dtype: int64\n"
     ]
    }
   ],
   "source": [
    "df['Top 3 Finish'] = df['positionOrder'].le(3).astype(int)\n",
    "\n",
    "print(df['Top 3 Finish'].value_counts())"
   ]
  }
 ],
 "metadata": {
  "kernelspec": {
   "display_name": ".venv",
   "language": "python",
   "name": "python3"
  },
  "language_info": {
   "codemirror_mode": {
    "name": "ipython",
    "version": 3
   },
   "file_extension": ".py",
   "mimetype": "text/x-python",
   "name": "python",
   "nbconvert_exporter": "python",
   "pygments_lexer": "ipython3",
   "version": "3.11.0"
  }
 },
 "nbformat": 4,
 "nbformat_minor": 5
}
